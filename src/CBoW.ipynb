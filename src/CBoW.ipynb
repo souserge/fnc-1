{
 "cells": [
  {
   "cell_type": "code",
   "execution_count": null,
   "metadata": {},
   "outputs": [],
   "source": [
    "import preprocess\n",
    "import utils\n",
    "import torch as th\n",
    "import torch.nn as nn\n",
    "import torch.functional as F\n",
    "import pandas as pd\n",
    "import csv\n",
    "import pickle as pkl\n",
    "from sklearn.utils import gen_batches"
   ]
  },
  {
   "cell_type": "markdown",
   "metadata": {},
   "source": [
    "# Loading data"
   ]
  },
  {
   "cell_type": "code",
   "execution_count": null,
   "metadata": {},
   "outputs": [],
   "source": [
    "load_preprocessed_data = True\n",
    "\n",
    "if load_preprocessed_data:\n",
    "    path_to_data = 'data.pkl'\n",
    "    path_to_vocab_dict = 'vocab_dict.pkl'\n",
    "    \n",
    "    data = utils.load_preprocessed_data(path_to_data)\n",
    "    vocab_dict = utils.load_vocab_dict(path_to_vocab_dict)\n",
    "    (headlines_train, stances_train, bodies_train) = data['train']\n",
    "    (headlines_dev, stances_dev, bodies_dev) = data['dev']\n",
    "else:\n",
    "    train_stances_path = 'data/train_stances.csv'\n",
    "    train_bodies_path = 'data/train_bodies.csv'\n",
    "\n",
    "    stances_data =  pd.read_csv(train_stances_path)\n",
    "    bodies_data = pd.read_csv(train_bodies_path)\n",
    "\n",
    "    data = preprocess.extract_data(stances_data, bodies_data)\n",
    "    vocab_dict = data['dict']\n",
    "    (headlines_train, stances_train, bodies_train) = data['train']\n",
    "    (headlines_dev, stances_dev, bodies_dev) = data['dev']"
   ]
  },
  {
   "cell_type": "markdown",
   "metadata": {},
   "source": [
    "# Training the model"
   ]
  },
  {
   "cell_type": "code",
   "execution_count": null,
   "metadata": {},
   "outputs": [],
   "source": [
    "is_cuda = False\n",
    "\n",
    "if is_cuda:\n",
    "    device = th.device('cuda:0')\n",
    "else:\n",
    "    device = th.device('cpu')"
   ]
  },
  {
   "cell_type": "code",
   "execution_count": null,
   "metadata": {},
   "outputs": [],
   "source": [
    "class CBOW_classifier(nn.Module):\n",
    "    def __init__(self, vocab_dict, embedding_dim, num_layers=0, hidden_dim=50, dropout=0.5):\n",
    "        super(CBOW_classifier, self).__init__()     \n",
    "        output_dim = 4\n",
    "        self.embedding = nn.Embedding(len(vocab_dict), embedding_dim, padding_idx=vocab_dict['<pad>'])\n",
    "        if num_layers > 0:\n",
    "            first_layer = nn.Sequential(nn.Linear(2*embedding_dim, hidden_dim),nn.ReLU())\n",
    "            hidden_layers = [nn.Sequential(nn.Linear(hidden_dim, hidden_dim),nn.ReLU()) for i in range(num_layers-1)]\n",
    "            self.out = nn.Sequential(nn.Dropout(dropout), first_layer, *hidden_layers, nn.Dropout(dropout), nn.Linear(hidden_dim, output_dim))\n",
    "        else:\n",
    "            self.out = nn.Sequential(nn.Dropout(dropout),nn.Linear(2*embedding_dim, output_dim))        \n",
    "        \n",
    "    def forward(self, headlines, bodies):\n",
    "        headlines_embedded = th.sum(self.embedding(headlines), axis=1)\n",
    "        bodies_embedded = th.sum(self.embedding(bodies), axis=1)\n",
    "        embeds = th.cat((headlines_embedded, bodies_embedded), 1)\n",
    "        out = self.out(embeds)\n",
    "        return out"
   ]
  },
  {
   "cell_type": "code",
   "execution_count": null,
   "metadata": {},
   "outputs": [],
   "source": [
    "embedding_dim = 1000\n",
    "model = CBOW_classifier(vocab_dict, embedding_dim, num_layers=1, dropout=0.1).to(device)\n",
    "lr = 0.001\n",
    "loss_function = nn.CrossEntropyLoss()\n",
    "optimizer = th.optim.Adam(model.parameters(), lr=lr)"
   ]
  },
  {
   "cell_type": "code",
   "execution_count": null,
   "metadata": {},
   "outputs": [],
   "source": [
    "num_epochs = 1\n",
    "batch_size = 10\n",
    "num_samples = len(headlines_train)\n",
    "\n",
    "slices = list(gen_batches(num_samples, batch_size))\n",
    "dev_slices = list(gen_batches(len(headlines_dev), batch_size))\n",
    "\n",
    "for epoch in range(num_epochs):\n",
    "    epoch_loss = 0\n",
    "    model.train()\n",
    "    for s in slices:\n",
    "\n",
    "        headlines_batch = headlines_train[s].to(device)\n",
    "        stances_batch = stances_train[s].to(device)\n",
    "        bodies_batch = bodies_train[s].to(device)\n",
    "        \n",
    "        optimizer.zero_grad()  \n",
    "        pred_labels = model(headlines_batch, bodies_batch)\n",
    "        loss = loss_function(pred_labels, stances_batch)\n",
    "        loss.backward()\n",
    "        optimizer.step()\n",
    "        epoch_loss += loss.item()\n",
    "\n",
    "    accs = []\n",
    "    for s in dev_slices:   \n",
    "        acc = compute_accuracy(\n",
    "            model, \n",
    "            headlines_dev[s].to(device), \n",
    "            stances_dev[s].to(device), \n",
    "            bodies_dev[s].to(device)\n",
    "        )\n",
    "        accs.append(acc)\n",
    "    acc = sum(accs) / len(accs)\n",
    "    \n",
    "    s = random.choice(slices)\n",
    "    trainacc = utils.compute_accuracy(\n",
    "        model,\n",
    "        headlines_train[s].to(device),\n",
    "        stances_train[s].to(device),\n",
    "        bodies_train[s].to(device)\n",
    "    )\n",
    "    \n",
    "    print('Epoch:', epoch, \"Accuracy: %f\" % acc, \"Train accuracy: %f\" % trainacc)\n",
    "    print('\\tLoss:', epoch_loss / len(slices))"
   ]
  },
  {
   "cell_type": "markdown",
   "metadata": {},
   "source": [
    "# Saving data"
   ]
  },
  {
   "cell_type": "code",
   "execution_count": null,
   "metadata": {},
   "outputs": [],
   "source": [
    "save_data = False\n",
    "\n",
    "if save_data:\n",
    "    vocab_dict_path = 'vocab_dict_new.pkl'\n",
    "    model_weights_path = 'cbow_0xxxx.pth'\n",
    "    data_path = 'data_new.pkl'\n",
    "    \n",
    "    utils.save_vocab_dict(vocab_dict_path, vocab_dict)\n",
    "    utils.save_model_weights(model_weights_path, model)\n",
    "    utils.save_preprocessed_data(data_path, {\n",
    "        'train': (headlines_train, stances_train, bodies_train),\n",
    "        'dev': (headlines_dev, stances_dev, bodies_dev)\n",
    "    })"
   ]
  },
  {
   "cell_type": "markdown",
   "metadata": {},
   "source": [
    "# Loading model\n",
    "\n",
    "The following code loads the model. There is no need to run this part if the model was trained in this notebook."
   ]
  },
  {
   "cell_type": "code",
   "execution_count": null,
   "metadata": {},
   "outputs": [],
   "source": [
    "load_model = False\n",
    "\n",
    "if load_model:\n",
    "    path_to_vocab_dict = 'vocab_dict.pkl'\n",
    "    path_to_model_weights = 'cbow_09502.pth'\n",
    "\n",
    "    embedding_dim = 1000\n",
    "    model = CBOW_classifier(vocab_dict, embedding_dim, num_layers=1, dropout=0.1)\n",
    "\n",
    "    vocab_dict = utils.load_vocab_dict(path_to_vocab_dict)\n",
    "    model = utils.load_model_weights(model, path_to_model_weights)"
   ]
  },
  {
   "cell_type": "markdown",
   "metadata": {},
   "source": [
    "# Evaluating the model\n",
    "\n",
    "the following code loads test data, runs them through the model, and saves them to a CSV file"
   ]
  },
  {
   "cell_type": "code",
   "execution_count": null,
   "metadata": {},
   "outputs": [],
   "source": [
    "bodies_data = pd.read_csv('data/competition_test_bodies.csv')\n",
    "stances_data =  pd.read_csv('data/competition_test_stances_unlabeled.csv')"
   ]
  },
  {
   "cell_type": "code",
   "execution_count": null,
   "metadata": {},
   "outputs": [],
   "source": [
    "headlines, _, bodies = preprocess.transform_data(stances_data, bodies_data, vocab_dict)"
   ]
  },
  {
   "cell_type": "code",
   "execution_count": null,
   "metadata": {},
   "outputs": [],
   "source": [
    "slices = list(gen_batches(len(headlines), 200))\n",
    "predictions = []\n",
    "for s in slices:   \n",
    "    with th.no_grad():\n",
    "        outputs = model.forward(headlines[s], bodies[s]).argmax(axis=1)\n",
    "        predictions += outputs.tolist()"
   ]
  },
  {
   "cell_type": "code",
   "execution_count": null,
   "metadata": {},
   "outputs": [],
   "source": [
    "predictions_words = preprocess.transform_back_stances(predictions)"
   ]
  },
  {
   "cell_type": "code",
   "execution_count": null,
   "metadata": {},
   "outputs": [],
   "source": [
    "prediction_data = list(zip(\n",
    "    stances_data['Headline'].values.tolist(), \n",
    "    stances_data['Body ID'].values.tolist(), \n",
    "    predictions_words\n",
    "))"
   ]
  },
  {
   "cell_type": "code",
   "execution_count": null,
   "metadata": {},
   "outputs": [],
   "source": [
    "with open('predictions.csv', 'w') as pred_file:\n",
    "    writer = csv.writer(pred_file)\n",
    "    writer.writerow(['Headline', 'Body ID', 'Stance'])\n",
    "    writer.writerows(prediction_data)"
   ]
  }
 ],
 "metadata": {
  "kernelspec": {
   "display_name": "Python 3",
   "language": "python",
   "name": "python3"
  },
  "language_info": {
   "codemirror_mode": {
    "name": "ipython",
    "version": 3
   },
   "file_extension": ".py",
   "mimetype": "text/x-python",
   "name": "python",
   "nbconvert_exporter": "python",
   "pygments_lexer": "ipython3",
   "version": "3.7.3"
  }
 },
 "nbformat": 4,
 "nbformat_minor": 4
}
